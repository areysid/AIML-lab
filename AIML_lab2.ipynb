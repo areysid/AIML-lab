{
  "nbformat": 4,
  "nbformat_minor": 0,
  "metadata": {
    "colab": {
      "provenance": [],
      "authorship_tag": "ABX9TyMkrW73NoTKwvK14xShbVQf",
      "include_colab_link": true
    },
    "kernelspec": {
      "name": "python3",
      "display_name": "Python 3"
    },
    "language_info": {
      "name": "python"
    }
  },
  "cells": [
    {
      "cell_type": "markdown",
      "metadata": {
        "id": "view-in-github",
        "colab_type": "text"
      },
      "source": [
        "<a href=\"https://colab.research.google.com/github/areysid/AIML-lab/blob/main/AIML_lab2.ipynb\" target=\"_parent\"><img src=\"https://colab.research.google.com/assets/colab-badge.svg\" alt=\"Open In Colab\"/></a>"
      ]
    },
    {
      "cell_type": "code",
      "execution_count": 2,
      "metadata": {
        "colab": {
          "base_uri": "https://localhost:8080/"
        },
        "id": "osneMaBFNEd0",
        "outputId": "252cf8a0-9d66-4238-aa4f-ad4ee56580c4"
      },
      "outputs": [
        {
          "output_type": "stream",
          "name": "stdout",
          "text": [
            "First color: red\n",
            "Last color: red\n",
            "Number of times 'red' appears: 3\n"
          ]
        }
      ],
      "source": [
        "colors = (\"red\", \"blue\", \"red\", \"yellow\", \"red\")\n",
        "print(\"First color:\", colors[0])\n",
        "print(\"Last color:\", colors[-1])\n",
        "red_count = colors.count(\"red\")\n",
        "print(\"Number of times 'red' appears:\", red_count)\n"
      ]
    },
    {
      "cell_type": "code",
      "source": [
        "person = {\n",
        "    \"name\": \"Sidharth\",\n",
        "    \"age\":20,\n",
        "    \"city\": \"Jaipur\"\n",
        "}\n",
        "print(\"Name:\", person[\"name\"])\n",
        "print(\"Age:\", person[\"age\"])\n",
        "print(\"City:\", person[\"city\"])\n",
        "person[\"email\"] = \"sidharthmalpani@gmail.com\"\n",
        "print(\"Updated dictionary with email:\", person)\n",
        "person[\"age\"] = 22\n",
        "print(\"Updated dictionary with modified age:\", person)\n",
        "if \"city\" in person:\n",
        "    print(\"Key 'city' exists in the dictionary\")\n",
        "\n",
        "keys = person.keys()\n",
        "values = person.values()\n",
        "print(\"Keys:\", list(keys))\n",
        "print(\"Values:\", list(values))\n"
      ],
      "metadata": {
        "colab": {
          "base_uri": "https://localhost:8080/"
        },
        "id": "-YIMRmnpN_jH",
        "outputId": "fdd97cd3-60e6-4b26-b586-e83f1e99c7a6"
      },
      "execution_count": 3,
      "outputs": [
        {
          "output_type": "stream",
          "name": "stdout",
          "text": [
            "Name: Sidharth\n",
            "Age: 20\n",
            "City: Jaipur\n",
            "Updated dictionary with email: {'name': 'Sidharth', 'age': 20, 'city': 'Jaipur', 'email': 'sidharthmalpani@gmail.com'}\n",
            "Updated dictionary with modified age: {'name': 'Sidharth', 'age': 22, 'city': 'Jaipur', 'email': 'sidharthmalpani@gmail.com'}\n",
            "Key 'city' exists in the dictionary\n",
            "Keys: ['name', 'age', 'city', 'email']\n",
            "Values: ['Sidharth', 22, 'Jaipur', 'sidharthmalpani@gmail.com']\n"
          ]
        }
      ]
    },
    {
      "cell_type": "code",
      "source": [
        "my_list = [11, 12, 13, 14,15]\n",
        "my_tuple = (20, 19, 18, 17, 16)\n",
        "my_list[4] = 25\n",
        "print(\"Modified list:\", my_list)\n",
        "try:\n",
        "    my_tuple[4] = 25\n",
        "except TypeError as e:\n",
        "    print(\"Error:\", e)\n",
        "print(\"Original tuple:\", my_tuple)\n"
      ],
      "metadata": {
        "colab": {
          "base_uri": "https://localhost:8080/"
        },
        "id": "8Xa2kCbAOkxi",
        "outputId": "cbd92310-084d-4439-812e-0421e2340ab7"
      },
      "execution_count": 4,
      "outputs": [
        {
          "output_type": "stream",
          "name": "stdout",
          "text": [
            "Modified list: [11, 12, 13, 14, 25]\n",
            "Error: 'tuple' object does not support item assignment\n",
            "Original tuple: (20, 19, 18, 17, 16)\n"
          ]
        }
      ]
    },
    {
      "cell_type": "code",
      "source": [
        "number = int(input(\"Enter a number to print its multiplication table: \"))\n",
        "for i in range(1, 11):\n",
        "    product = number * i\n",
        "    print(f\"{number} x {i} = {product}\")\n"
      ],
      "metadata": {
        "colab": {
          "base_uri": "https://localhost:8080/"
        },
        "id": "0kGzo_hOO8XR",
        "outputId": "c3fa3e78-a043-412f-e96c-aea9a85b3819"
      },
      "execution_count": 5,
      "outputs": [
        {
          "output_type": "stream",
          "name": "stdout",
          "text": [
            "Enter a number to print its multiplication table: 17\n",
            "17 x 1 = 17\n",
            "17 x 2 = 34\n",
            "17 x 3 = 51\n",
            "17 x 4 = 68\n",
            "17 x 5 = 85\n",
            "17 x 6 = 102\n",
            "17 x 7 = 119\n",
            "17 x 8 = 136\n",
            "17 x 9 = 153\n",
            "17 x 10 = 170\n"
          ]
        }
      ]
    },
    {
      "cell_type": "code",
      "source": [
        "def factorial(n):\n",
        "    if n < 0:\n",
        "        return \"Factorial is not defined for negative numbers.\"\n",
        "    elif n == 0:\n",
        "        return 1\n",
        "    else:\n",
        "        result = 1\n",
        "        for i in range(1, n + 1):\n",
        "            result *= i\n",
        "        return result\n",
        "number = int(input(\"Enter a number to find its factorial: \"))\n",
        "factorial_result = factorial(number)\n",
        "print(f\"The factorial of {number} is: {factorial_result}\")\n"
      ],
      "metadata": {
        "colab": {
          "base_uri": "https://localhost:8080/"
        },
        "id": "ZwDY7yKaPBwn",
        "outputId": "3a9f0e58-84b5-4287-9b54-fa9b43f903d3"
      },
      "execution_count": 6,
      "outputs": [
        {
          "output_type": "stream",
          "name": "stdout",
          "text": [
            "Enter a number to find its factorial: 7\n",
            "The factorial of 7 is: 5040\n"
          ]
        }
      ]
    },
    {
      "cell_type": "code",
      "source": [
        "while True:\n",
        "\n",
        "    num1 = float(input(\"Enter the first number: \"))\n",
        "    num2 = float(input(\"Enter the second number: \"))\n",
        "\n",
        "\n",
        "    print(\"Choose an operation:\")\n",
        "    print(\"1. Addition (+)\")\n",
        "    print(\"2. Subtraction (-)\")\n",
        "    print(\"3. Multiplication (*)\")\n",
        "    print(\"4. Division (/)\")\n",
        "    print(\"5. Modulus (%)\")\n",
        "    print(\"6. Exit\")\n",
        "\n",
        "\n",
        "    choice = input(\"Enter your choice: \")\n",
        "\n",
        "\n",
        "    if choice == '1':\n",
        "        print(f\"The result of {num1} + {num2} is {num1 + num2}\")\n",
        "    elif choice == '2':\n",
        "        print(f\"The result of {num1} - {num2} is {num1 - num2}\")\n",
        "    elif choice == '3':\n",
        "        print(f\"The result of {num1} * {num2} is {num1 * num2}\")\n",
        "    elif choice == '4':\n",
        "        if num2 != 0:\n",
        "            print(f\"The result of {num1} / {num2} is {num1 / num2}\")\n",
        "        else:\n",
        "            print(\"Error: Division by zero is undefined.\")\n",
        "    elif choice == '5':\n",
        "        if num2 != 0:\n",
        "            print(f\"The result of {num1} % {num2} is {num1 % num2}\")\n",
        "        else:\n",
        "            print(\"Error: Modulus by zero is undefined.\")\n",
        "    elif choice == '6':\n",
        "        print(\"Exiting the calculator. Goodbye!\")\n",
        "        break\n",
        "    else:\n",
        "        print(\"Invalid choice. Please select a valid operation.\")\n"
      ],
      "metadata": {
        "colab": {
          "base_uri": "https://localhost:8080/"
        },
        "id": "jDvauwl_PWLi",
        "outputId": "49c6d3cc-8af1-4c15-e6de-cd2435a04e27"
      },
      "execution_count": 9,
      "outputs": [
        {
          "output_type": "stream",
          "name": "stdout",
          "text": [
            "Enter the first number: 5\n",
            "Enter the second number: 6\n",
            "Choose an operation:\n",
            "1. Addition (+)\n",
            "2. Subtraction (-)\n",
            "3. Multiplication (*)\n",
            "4. Division (/)\n",
            "5. Modulus (%)\n",
            "6. Exit\n",
            "Enter your choice: 3\n",
            "The result of 5.0 * 6.0 is 30.0\n",
            "Enter the first number: 4\n",
            "Enter the second number: 3\n",
            "Choose an operation:\n",
            "1. Addition (+)\n",
            "2. Subtraction (-)\n",
            "3. Multiplication (*)\n",
            "4. Division (/)\n",
            "5. Modulus (%)\n",
            "6. Exit\n",
            "Enter your choice: 1\n",
            "The result of 4.0 + 3.0 is 7.0\n",
            "Enter the first number: 3\n",
            "Enter the second number: 3\n",
            "Choose an operation:\n",
            "1. Addition (+)\n",
            "2. Subtraction (-)\n",
            "3. Multiplication (*)\n",
            "4. Division (/)\n",
            "5. Modulus (%)\n",
            "6. Exit\n",
            "Enter your choice: 6\n",
            "Exiting the calculator. Goodbye!\n"
          ]
        }
      ]
    },
    {
      "cell_type": "code",
      "source": [
        "sum_of_evens = 0\n",
        "for num in range(201, 301):\n",
        "    if num % 2 == 0:\n",
        "        sum_of_evens += num\n",
        "print(\"The sum of all even numbers between 201 and 300 is:\", sum_of_evens)\n"
      ],
      "metadata": {
        "colab": {
          "base_uri": "https://localhost:8080/"
        },
        "id": "H_9pPT4qQVU4",
        "outputId": "0ba6f684-c67c-4511-9280-dc9cecd0bc24"
      },
      "execution_count": 11,
      "outputs": [
        {
          "output_type": "stream",
          "name": "stdout",
          "text": [
            "The sum of all even numbers between 201 and 300 is: 12550\n"
          ]
        }
      ]
    },
    {
      "cell_type": "code",
      "source": [
        "def is_prime(n):\n",
        "    if n <= 1:\n",
        "        return False\n",
        "    elif n == 2:\n",
        "        return True\n",
        "    elif n % 2 == 0:\n",
        "        return False\n",
        "    for i in range(3, int(n**0.5) + 1, 2):\n",
        "        if n % i == 0:\n",
        "            return False\n",
        "    return True\n",
        "number = int(input(\"Enter a number to check if it is prime: \"))\n",
        "if is_prime(number):\n",
        "    print(f\"{number} is a prime number.\")\n",
        "else:\n",
        "    print(f\"{number} is not a prime number.\")\n"
      ],
      "metadata": {
        "colab": {
          "base_uri": "https://localhost:8080/"
        },
        "id": "Dzw_8I-CQg4Y",
        "outputId": "05617a3c-9b85-4e73-8406-3c2c05c5ca36"
      },
      "execution_count": 12,
      "outputs": [
        {
          "output_type": "stream",
          "name": "stdout",
          "text": [
            "Enter a number to check if it is prime: 23\n",
            "23 is a prime number.\n"
          ]
        }
      ]
    }
  ]
}