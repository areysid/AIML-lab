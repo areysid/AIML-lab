{
  "nbformat": 4,
  "nbformat_minor": 0,
  "metadata": {
    "colab": {
      "provenance": [],
      "authorship_tag": "ABX9TyPpZCg1ofRESM8B4+Df2YKn",
      "include_colab_link": true
    },
    "kernelspec": {
      "name": "python3",
      "display_name": "Python 3"
    },
    "language_info": {
      "name": "python"
    }
  },
  "cells": [
    {
      "cell_type": "markdown",
      "metadata": {
        "id": "view-in-github",
        "colab_type": "text"
      },
      "source": [
        "<a href=\"https://colab.research.google.com/github/areysid/AIML-lab/blob/main/AIML_lab1.ipynb\" target=\"_parent\"><img src=\"https://colab.research.google.com/assets/colab-badge.svg\" alt=\"Open In Colab\"/></a>"
      ]
    },
    {
      "cell_type": "code",
      "execution_count": 5,
      "metadata": {
        "colab": {
          "base_uri": "https://localhost:8080/"
        },
        "id": "HAYnLJbBIEJR",
        "outputId": "d60687b2-edcf-40e1-dea8-10be6cd940e4"
      },
      "outputs": [
        {
          "output_type": "stream",
          "name": "stdout",
          "text": [
            "enter the value 45.6\n",
            "enter the value6.5\n",
            "sum is  52.1\n",
            "difference is 39.1\n",
            "product is  296.40000000000003\n",
            "quotient is 7.015384615384615\n",
            "power is  60711571880.77482\n",
            "remainder is  0.10000000000000142\n"
          ]
        }
      ],
      "source": [
        "num1=float(input(\"enter the value \"))\n",
        "num2=float(input(\"enter the value\"))\n",
        "sum=num1+num2\n",
        "diff=num1-num2\n",
        "product=num1*num2\n",
        "quotient=num1/num2\n",
        "power=num1**num2\n",
        "remainder=num1%num2\n",
        "print(\"sum is \",sum)\n",
        "print(\"difference is\",diff)\n",
        "print(\"product is \", product)\n",
        "print(\"quotient is\",quotient)\n",
        "print(\"power is \",power)\n",
        "print(\"remainder is \",remainder)\n"
      ]
    },
    {
      "cell_type": "code",
      "source": [
        "var1 = int(input(\"enter a number \"))\n",
        "var2 = input(\"enter a string \")\n",
        "var3 = input(\"enter a string \")\n",
        "var4 = float(input(\"enter a number \"))\n",
        "var5 = input(\"enter True or False \")\n",
        "\n",
        "# Convert var5 to a Boolean value\n",
        "if var5.lower() == \"true\":\n",
        "    var5 = True\n",
        "else:\n",
        "    var5 = False\n",
        "\n",
        "sum = var1 + var4\n",
        "concat = var2 + var3\n",
        "\n",
        "if var5 == True:\n",
        "    print(\"it is true\")\n",
        "\n",
        "print(\"the sum is \", sum)\n",
        "print(\"concatenation is \", concat)\n"
      ],
      "metadata": {
        "colab": {
          "base_uri": "https://localhost:8080/"
        },
        "id": "vVHLl5QjI0zn",
        "outputId": "6b1943c5-300e-47a4-dfeb-ba5dae58176a"
      },
      "execution_count": 8,
      "outputs": [
        {
          "output_type": "stream",
          "name": "stdout",
          "text": [
            "enter a number 45\n",
            "enter a string Sidharth\n",
            "enter a string Malpani\n",
            "enter a number 55\n",
            "enter True or False True\n",
            "it is true\n",
            "the sum is  100.0\n",
            "concatenation is  SidharthMalpani\n"
          ]
        }
      ]
    },
    {
      "cell_type": "code",
      "source": [
        "name = input(\"Please enter your name: \")\n",
        "print(f\"Hello, {name}!\")\n",
        "birth_year = input(\"Please enter your birth year: \")\n",
        "birth_year = int(birth_year)\n",
        "from datetime import datetime\n",
        "current_year = datetime.now().year\n",
        "age = current_year - birth_year\n",
        "print(f\"{name}, you are {age} years old.\")\n"
      ],
      "metadata": {
        "colab": {
          "base_uri": "https://localhost:8080/"
        },
        "id": "izZbUAjVKq7A",
        "outputId": "52a9e13d-4daf-4550-f590-e217d1606fa3"
      },
      "execution_count": 9,
      "outputs": [
        {
          "output_type": "stream",
          "name": "stdout",
          "text": [
            "Please enter your name: Sidharth\n",
            "Hello, Sidharth!\n",
            "Please enter your birth year: 2004\n",
            "Sidharth, you are 21 years old.\n"
          ]
        }
      ]
    },
    {
      "cell_type": "code",
      "source": [
        "\n",
        "num=int(input(\"enter a number \"))\n",
        "if (num%2)==0:\n",
        "    print(f\"the given{num} number is even.\")\n",
        "else :\n",
        "    print(\"the given number is odd\")\n"
      ],
      "metadata": {
        "colab": {
          "base_uri": "https://localhost:8080/"
        },
        "id": "bHp451q6K5Eg",
        "outputId": "24aef097-09d8-4488-c696-4602961ebf98"
      },
      "execution_count": 10,
      "outputs": [
        {
          "output_type": "stream",
          "name": "stdout",
          "text": [
            "enter a number 533\n",
            "the given number is odd\n"
          ]
        }
      ]
    },
    {
      "cell_type": "code",
      "source": [
        "print(\"Numbers from 21 to 30 using a for loop:\")\n",
        "for i in range(21, 31):\n",
        "    print(i)\n"
      ],
      "metadata": {
        "colab": {
          "base_uri": "https://localhost:8080/"
        },
        "id": "698DNx7FK81g",
        "outputId": "25cfc7ac-9cc0-4b12-f8da-78471b47b6d3"
      },
      "execution_count": 11,
      "outputs": [
        {
          "output_type": "stream",
          "name": "stdout",
          "text": [
            "Numbers from 21 to 30 using a for loop:\n",
            "21\n",
            "22\n",
            "23\n",
            "24\n",
            "25\n",
            "26\n",
            "27\n",
            "28\n",
            "29\n",
            "30\n"
          ]
        }
      ]
    },
    {
      "cell_type": "code",
      "source": [
        "fruits = [\"apple\", \"banana\", \"cherry\", \"date\"]\n",
        "print(\"Original list:\", fruits)\n",
        "first_fruit = fruits[0]\n",
        "second_fruit = fruits[1]\n",
        "print(\"First fruit:\", first_fruit)\n",
        "print(\"Second fruit:\", second_fruit)\n",
        "fruits[1] = \"blueberry\"\n",
        "print(\"Modified list:\", fruits)\n",
        "fruits.append(\"elderberry\")\n",
        "print(\"List after adding an element:\", fruits)\n",
        "fruits.remove(\"cherry\")\n",
        "print(\"List after removing an element:\", fruits)\n",
        "length_of_list = len(fruits)\n",
        "print(\"Length of the list:\", length_of_list)\n",
        "fruits.sort()\n",
        "print(\"List sorted in ascending order:\", fruits)\n",
        "fruits.sort(reverse=True)\n",
        "print(\"List sorted in descending order:\", fruits)\n"
      ],
      "metadata": {
        "colab": {
          "base_uri": "https://localhost:8080/"
        },
        "id": "C6e84MT2LJLN",
        "outputId": "5a7701df-6d1e-4b3f-adc6-91f5b243d46d"
      },
      "execution_count": 12,
      "outputs": [
        {
          "output_type": "stream",
          "name": "stdout",
          "text": [
            "Original list: ['apple', 'banana', 'cherry', 'date']\n",
            "First fruit: apple\n",
            "Second fruit: banana\n",
            "Modified list: ['apple', 'blueberry', 'cherry', 'date']\n",
            "List after adding an element: ['apple', 'blueberry', 'cherry', 'date', 'elderberry']\n",
            "List after removing an element: ['apple', 'blueberry', 'date', 'elderberry']\n",
            "Length of the list: 4\n",
            "List sorted in ascending order: ['apple', 'blueberry', 'date', 'elderberry']\n",
            "List sorted in descending order: ['elderberry', 'date', 'blueberry', 'apple']\n"
          ]
        }
      ]
    },
    {
      "cell_type": "code",
      "source": [
        "my_string = \"Hello noobs, welcome to the world of Python programming!\"\n",
        "string_length = len(my_string)\n",
        "print(\"Length of the string:\", string_length)\n",
        "uppercase_string = my_string.upper()\n",
        "print(\"Uppercase string:\", uppercase_string)\n",
        "lowercase_string = my_string.lower()\n",
        "print(\"Lowercase string:\", lowercase_string)\n",
        "substring = \"noobs\"\n",
        "substring_exists = substring in my_string\n",
        "print(f\"Does the substring '{substring}' exist in the string?:\", substring_exists)\n",
        "words_list = my_string.split()\n",
        "print(\"List of words:\", words_list)\n"
      ],
      "metadata": {
        "colab": {
          "base_uri": "https://localhost:8080/"
        },
        "id": "SlIUjeKVLYeM",
        "outputId": "8384a21c-9bd8-4027-e6c9-234c1fce4e83"
      },
      "execution_count": 13,
      "outputs": [
        {
          "output_type": "stream",
          "name": "stdout",
          "text": [
            "Length of the string: 56\n",
            "Uppercase string: HELLO NOOBS, WELCOME TO THE WORLD OF PYTHON PROGRAMMING!\n",
            "Lowercase string: hello noobs, welcome to the world of python programming!\n",
            "Does the substring 'noobs' exist in the string?: True\n",
            "List of words: ['Hello', 'noobs,', 'welcome', 'to', 'the', 'world', 'of', 'Python', 'programming!']\n"
          ]
        }
      ]
    },
    {
      "cell_type": "code",
      "source": [
        "def find_largest_and_smallest(numbers):\n",
        "    largest = smallest = numbers[0]\n",
        "    for num in numbers[1:]:\n",
        "       if num > largest:\n",
        "            largest = num\n",
        "       elif num < smallest:\n",
        "            smallest = num\n",
        "    return largest, smallest\n",
        "numbers = [-3, 4, 5, 16, 21,-21, 13, 10]\n",
        "largest, smallest = find_largest_and_smallest(numbers)\n",
        "print(f\"Largest number: {largest}\")\n",
        "print(f\"Smallest number: {smallest}\")\n"
      ],
      "metadata": {
        "colab": {
          "base_uri": "https://localhost:8080/"
        },
        "id": "0mDfkEYqLim9",
        "outputId": "892eb043-ae13-43f9-dd92-4758ff92e8cc"
      },
      "execution_count": 17,
      "outputs": [
        {
          "output_type": "stream",
          "name": "stdout",
          "text": [
            "Largest number: 21\n",
            "Smallest number: -21\n"
          ]
        }
      ]
    }
  ]
}